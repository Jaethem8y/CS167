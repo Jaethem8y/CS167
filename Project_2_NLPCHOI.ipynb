{
  "nbformat": 4,
  "nbformat_minor": 0,
  "metadata": {
    "colab": {
      "name": "Project_2_NLP.ipynb",
      "provenance": [],
      "include_colab_link": true
    },
    "kernelspec": {
      "name": "python3",
      "display_name": "Python 3"
    },
    "language_info": {
      "name": "python"
    },
    "accelerator": "GPU"
  },
  "cells": [
    {
      "cell_type": "markdown",
      "metadata": {
        "id": "view-in-github",
        "colab_type": "text"
      },
      "source": [
        "<a href=\"https://colab.research.google.com/github/Jaethem8y/CS167/blob/main/Project_2_NLPCHOI.ipynb\" target=\"_parent\"><img src=\"https://colab.research.google.com/assets/colab-badge.svg\" alt=\"Open In Colab\"/></a>"
      ]
    },
    {
      "cell_type": "markdown",
      "metadata": {
        "id": "vu0Kz0Nq4ui4"
      },
      "source": [
        "# Project \\#2 Starter Code\n",
        "Your project should address the categories below. \n",
        "\n",
        "## Problem:\n",
        "The problem this project seek to solve is to predict whether the movie review has positive(good) or negative(bad) sentiment. The review feature contains the review for the movie, and our target feature sentiment has value either positive or negative indicating if the review is good or bad. Possible use of this model is to use in a webscraping project for the movie website. Gather the comments and feed it in to the machine to see if the movie has, generally, positive or negative sentiment. \n"
      ]
    },
    {
      "cell_type": "markdown",
      "metadata": {
        "id": "NBZAVjcWhgBV"
      },
      "source": [
        "# Input Pipeline (sklearn):"
      ]
    },
    {
      "cell_type": "code",
      "metadata": {
        "id": "12XGv2fIfTSr",
        "outputId": "bd7b6be4-4cdb-4a96-9171-3e6fc1b8c9f0",
        "colab": {
          "base_uri": "https://localhost:8080/",
          "height": 224
        }
      },
      "source": [
        "from google.colab import drive\n",
        "import pandas\n",
        "drive.mount('/content/drive')\n",
        "data = pandas.read_csv('/content/drive/MyDrive/CS167/DataSets/IMDB_dataset.csv')\n",
        "data.head()\n",
        "\n"
      ],
      "execution_count": 1,
      "outputs": [
        {
          "output_type": "stream",
          "name": "stdout",
          "text": [
            "Drive already mounted at /content/drive; to attempt to forcibly remount, call drive.mount(\"/content/drive\", force_remount=True).\n"
          ]
        },
        {
          "output_type": "execute_result",
          "data": {
            "text/html": [
              "<div>\n",
              "<style scoped>\n",
              "    .dataframe tbody tr th:only-of-type {\n",
              "        vertical-align: middle;\n",
              "    }\n",
              "\n",
              "    .dataframe tbody tr th {\n",
              "        vertical-align: top;\n",
              "    }\n",
              "\n",
              "    .dataframe thead th {\n",
              "        text-align: right;\n",
              "    }\n",
              "</style>\n",
              "<table border=\"1\" class=\"dataframe\">\n",
              "  <thead>\n",
              "    <tr style=\"text-align: right;\">\n",
              "      <th></th>\n",
              "      <th>review</th>\n",
              "      <th>sentiment</th>\n",
              "    </tr>\n",
              "  </thead>\n",
              "  <tbody>\n",
              "    <tr>\n",
              "      <th>0</th>\n",
              "      <td>One of the other reviewers has mentioned that ...</td>\n",
              "      <td>positive</td>\n",
              "    </tr>\n",
              "    <tr>\n",
              "      <th>1</th>\n",
              "      <td>A wonderful little production. &lt;br /&gt;&lt;br /&gt;The...</td>\n",
              "      <td>positive</td>\n",
              "    </tr>\n",
              "    <tr>\n",
              "      <th>2</th>\n",
              "      <td>I thought this was a wonderful way to spend ti...</td>\n",
              "      <td>positive</td>\n",
              "    </tr>\n",
              "    <tr>\n",
              "      <th>3</th>\n",
              "      <td>Basically there's a family where a little boy ...</td>\n",
              "      <td>negative</td>\n",
              "    </tr>\n",
              "    <tr>\n",
              "      <th>4</th>\n",
              "      <td>Petter Mattei's \"Love in the Time of Money\" is...</td>\n",
              "      <td>positive</td>\n",
              "    </tr>\n",
              "  </tbody>\n",
              "</table>\n",
              "</div>"
            ],
            "text/plain": [
              "                                              review sentiment\n",
              "0  One of the other reviewers has mentioned that ...  positive\n",
              "1  A wonderful little production. <br /><br />The...  positive\n",
              "2  I thought this was a wonderful way to spend ti...  positive\n",
              "3  Basically there's a family where a little boy ...  negative\n",
              "4  Petter Mattei's \"Love in the Time of Money\" is...  positive"
            ]
          },
          "metadata": {},
          "execution_count": 1
        }
      ]
    },
    {
      "cell_type": "markdown",
      "metadata": {
        "id": "ICUC-PvQ5bP2"
      },
      "source": [
        "## Data Exploration:\n",
        "- Number of samples\n",
        "- Number of classes of the target variable\n",
        "- Number of words per sample\n",
        "- Distribution of sample length\n",
        "- Something else: get creative :) "
      ]
    },
    {
      "cell_type": "code",
      "metadata": {
        "id": "9kkCmgdf5ZqB",
        "colab": {
          "base_uri": "https://localhost:8080/",
          "height": 710
        },
        "outputId": "2eda78b9-6210-4416-be03-cabd426d6f8b"
      },
      "source": [
        "## Use cells here to explore the data:\n",
        "\n",
        "\n",
        "# For number of samples\n",
        "print(\"This is number of samples:\",data.shape[0])\n",
        "\n",
        "\n",
        "# Number of classes of the target variable\n",
        "print(\"The classes for the target variable are:\", data['sentiment'].unique())\n",
        "print(\"Which the number is:\",len(data['sentiment'].unique()))\n",
        "\n",
        "\n",
        "#The number of words per sample\n",
        "wps = []\n",
        "for i in range(data.shape[0]):\n",
        "  wps.append(len(data['review'][i].split()))\n",
        "data['words per sample'] = wps\n",
        "print(\"Now there is a column that has number of words in sample in column words per sample\")\n",
        "import statistics\n",
        "print(\"The median of words per sample is :\",statistics.median(wps))\n",
        "print(\"The average of words per sample is :\",statistics.mean(wps))\n",
        "\n",
        "print(data)\n",
        "\n",
        "\n",
        "# The distribution of sample length\n",
        "distribution = {}\n",
        "for i in range(data.shape[0]):\n",
        "  if data[\"words per sample\"][i] in distribution:\n",
        "    distribution[data['words per sample'][i]] += 1\n",
        "  else:\n",
        "    distribution[data['words per sample'][i]] = 1\n",
        "print(distribution)\n",
        "\n",
        "data['words per sample'].hist()\n",
        "\n",
        "import matplotlib.pyplot as plt\n",
        "plt.suptitle(\"The frequency of words per sample\")\n",
        "plt.xlabel('unique words per sample values')\n",
        "plt.ylabel('frequency')\n",
        "\n",
        "\n",
        "#how many datas have word bad in it and actually got positive sentiment\n",
        "count = 0\n",
        "positive = 0\n",
        "for i in range(data.shape[0]):\n",
        "  if \"bad\" in data['review'][i]:\n",
        "    if data['sentiment'][i] == 'positive':\n",
        "      count += 1\n",
        "\n",
        "\n",
        "print(\"The reviews that have word bad in it but sentiment was still positive: \",count)\n",
        "\n"
      ],
      "execution_count": 2,
      "outputs": [
        {
          "output_type": "stream",
          "name": "stdout",
          "text": [
            "This is number of samples: 50000\n",
            "The classes for the target variable are: ['positive' 'negative']\n",
            "Which the number is: 2\n",
            "Now there is a column that has number of words in sample in column words per sample\n",
            "The median of words per sample is : 173.0\n",
            "The average of words per sample is : 231.15694\n",
            "                                                  review  ... words per sample\n",
            "0      One of the other reviewers has mentioned that ...  ...              307\n",
            "1      A wonderful little production. <br /><br />The...  ...              162\n",
            "2      I thought this was a wonderful way to spend ti...  ...              166\n",
            "3      Basically there's a family where a little boy ...  ...              138\n",
            "4      Petter Mattei's \"Love in the Time of Money\" is...  ...              230\n",
            "...                                                  ...  ...              ...\n",
            "49995  I thought this movie did a down right good job...  ...              194\n",
            "49996  Bad plot, bad dialogue, bad acting, idiotic di...  ...              112\n",
            "49997  I am a Catholic taught in parochial elementary...  ...              230\n",
            "49998  I'm going to have to disagree with the previou...  ...              212\n",
            "49999  No one expects the Star Trek movies to be high...  ...              129\n",
            "\n",
            "[50000 rows x 3 columns]\n",
            "{307: 63, 162: 200, 166: 215, 138: 313, 230: 108, 119: 326, 150: 277, 174: 196, 130: 352, 33: 16, 96: 116, 180: 185, 398: 27, 117: 315, 50: 109, 140: 309, 146: 272, 228: 111, 129: 352, 133: 358, 308: 66, 65: 86, 332: 52, 151: 260, 114: 262, 570: 19, 145: 283, 122: 328, 615: 18, 400: 33, 354: 48, 105: 139, 652: 10, 253: 89, 369: 42, 95: 115, 310: 60, 259: 76, 123: 380, 212: 128, 176: 178, 262: 84, 178: 183, 235: 112, 76: 107, 143: 272, 707: 9, 99: 102, 419: 26, 621: 14, 80: 87, 194: 152, 211: 137, 210: 122, 165: 214, 488: 21, 445: 23, 171: 217, 153: 233, 86: 78, 47: 93, 293: 72, 336: 47, 199: 156, 300: 77, 221: 118, 284: 72, 245: 91, 190: 172, 271: 68, 309: 60, 608: 12, 137: 325, 160: 246, 149: 271, 257: 78, 426: 33, 75: 91, 147: 257, 297: 64, 193: 167, 352: 49, 173: 179, 263: 70, 186: 150, 189: 163, 525: 20, 766: 9, 299: 53, 214: 122, 111: 221, 169: 225, 196: 185, 40: 50, 266: 82, 125: 331, 341: 55, 87: 87, 281: 64, 115: 252, 168: 213, 205: 116, 141: 306, 134: 306, 208: 130, 197: 147, 434: 25, 188: 161, 421: 30, 103: 143, 286: 71, 393: 42, 287: 82, 569: 21, 83: 105, 251: 96, 316: 55, 220: 136, 139: 284, 282: 53, 163: 236, 181: 173, 177: 198, 200: 155, 93: 82, 845: 4, 53: 103, 74: 86, 487: 27, 374: 38, 231: 99, 116: 245, 356: 53, 248: 102, 154: 257, 373: 40, 274: 70, 283: 70, 219: 125, 761: 5, 207: 124, 127: 387, 545: 14, 530: 17, 97: 118, 203: 142, 524: 17, 326: 61, 762: 6, 107: 173, 55: 99, 198: 128, 503: 16, 100: 104, 320: 59, 64: 95, 152: 251, 62: 101, 564: 13, 82: 100, 340: 44, 249: 85, 109: 197, 437: 27, 108: 223, 247: 98, 306: 78, 291: 82, 296: 58, 185: 162, 641: 9, 148: 252, 73: 92, 69: 99, 267: 87, 170: 234, 46: 93, 201: 149, 135: 326, 161: 221, 215: 138, 343: 42, 350: 39, 423: 28, 376: 52, 484: 22, 217: 128, 460: 30, 918: 5, 120: 313, 560: 15, 155: 220, 328: 59, 387: 37, 182: 168, 654: 5, 335: 51, 179: 178, 268: 76, 98: 107, 164: 210, 175: 157, 327: 48, 128: 345, 172: 183, 443: 27, 132: 334, 587: 21, 276: 66, 118: 282, 213: 149, 295: 57, 91: 90, 124: 362, 1011: 2, 78: 80, 424: 25, 209: 142, 344: 52, 931: 7, 72: 97, 716: 9, 54: 99, 229: 124, 77: 100, 467: 25, 144: 276, 57: 103, 572: 12, 113: 241, 358: 50, 377: 47, 270: 81, 680: 10, 233: 99, 35: 25, 187: 184, 788: 9, 554: 17, 993: 11, 710: 9, 412: 33, 753: 7, 280: 80, 36: 37, 342: 61, 232: 113, 238: 93, 184: 188, 48: 75, 304: 56, 272: 68, 90: 111, 479: 19, 202: 115, 371: 37, 237: 87, 681: 6, 399: 33, 18: 4, 60: 128, 639: 10, 406: 38, 158: 232, 403: 40, 521: 16, 206: 116, 348: 44, 720: 5, 522: 12, 61: 92, 414: 34, 81: 80, 329: 54, 101: 127, 638: 4, 653: 6, 396: 31, 303: 60, 70: 100, 142: 321, 664: 10, 243: 95, 66: 81, 58: 100, 255: 82, 264: 89, 385: 46, 407: 30, 277: 62, 71: 98, 92: 89, 364: 37, 346: 52, 323: 58, 63: 101, 167: 215, 85: 94, 126: 344, 156: 215, 159: 197, 883: 6, 361: 46, 391: 26, 355: 43, 856: 4, 317: 60, 471: 26, 59: 90, 89: 90, 51: 98, 68: 90, 351: 58, 349: 34, 131: 339, 246: 106, 402: 32, 1296: 1, 422: 41, 480: 22, 586: 16, 337: 47, 814: 4, 254: 79, 482: 21, 394: 33, 79: 101, 735: 7, 191: 141, 983: 6, 32: 20, 195: 155, 292: 64, 94: 108, 106: 151, 363: 47, 816: 6, 226: 122, 438: 25, 234: 107, 477: 24, 223: 111, 250: 83, 359: 43, 493: 13, 502: 14, 372: 52, 770: 8, 222: 102, 330: 50, 409: 29, 43: 84, 204: 142, 515: 26, 224: 90, 67: 96, 602: 11, 740: 7, 239: 106, 275: 67, 734: 4, 448: 21, 917: 9, 531: 16, 446: 32, 537: 14, 704: 6, 121: 303, 392: 40, 136: 296, 30: 16, 241: 104, 256: 84, 489: 16, 183: 164, 367: 44, 450: 19, 278: 86, 285: 77, 514: 12, 244: 94, 110: 219, 104: 156, 640: 8, 397: 28, 444: 21, 331: 51, 192: 145, 216: 110, 660: 12, 225: 106, 39: 44, 366: 55, 375: 45, 258: 70, 315: 56, 112: 246, 782: 3, 416: 25, 433: 25, 52: 87, 338: 49, 798: 2, 301: 79, 495: 21, 599: 10, 261: 90, 420: 35, 535: 13, 321: 51, 34: 33, 269: 75, 509: 12, 157: 251, 546: 20, 965: 4, 389: 38, 365: 45, 706: 9, 314: 62, 288: 70, 42: 71, 920: 3, 824: 5, 481: 28, 305: 69, 473: 16, 937: 4, 430: 28, 378: 32, 49: 94, 236: 111, 850: 3, 744: 6, 25: 9, 44: 82, 601: 12, 418: 33, 381: 35, 411: 33, 388: 36, 333: 47, 370: 51, 715: 6, 470: 23, 227: 106, 279: 58, 360: 47, 313: 53, 427: 37, 428: 25, 312: 56, 562: 16, 84: 93, 496: 20, 458: 22, 38: 38, 874: 4, 703: 7, 552: 19, 725: 3, 558: 13, 456: 31, 663: 5, 549: 12, 791: 7, 561: 18, 28: 15, 510: 28, 595: 13, 584: 16, 588: 14, 789: 5, 218: 119, 506: 22, 1527: 1, 429: 31, 580: 16, 384: 38, 322: 53, 556: 17, 607: 12, 88: 95, 494: 15, 736: 6, 290: 73, 655: 7, 102: 142, 922: 2, 413: 32, 440: 35, 240: 72, 462: 24, 491: 16, 898: 7, 629: 13, 386: 28, 294: 68, 726: 7, 345: 37, 432: 33, 273: 77, 534: 26, 431: 25, 960: 4, 26: 7, 379: 35, 808: 4, 311: 60, 37: 33, 353: 36, 265: 54, 553: 14, 777: 7, 543: 15, 550: 12, 790: 8, 410: 39, 500: 23, 298: 63, 242: 93, 302: 63, 401: 33, 357: 45, 614: 7, 947: 8, 779: 6, 596: 11, 618: 15, 771: 7, 451: 20, 746: 11, 56: 109, 252: 73, 690: 8, 799: 10, 347: 39, 622: 14, 775: 5, 362: 36, 863: 5, 319: 37, 405: 29, 906: 3, 557: 17, 670: 13, 520: 21, 647: 6, 435: 32, 896: 1, 750: 6, 324: 54, 613: 8, 517: 16, 518: 24, 404: 30, 455: 26, 591: 15, 260: 76, 693: 10, 661: 10, 540: 16, 499: 21, 519: 17, 1000: 15, 617: 14, 457: 26, 516: 17, 447: 23, 529: 16, 408: 35, 749: 4, 559: 21, 466: 25, 548: 19, 538: 14, 722: 4, 475: 23, 511: 15, 289: 63, 395: 35, 325: 53, 449: 26, 633: 5, 875: 2, 380: 36, 436: 36, 684: 8, 483: 14, 709: 11, 551: 14, 461: 30, 574: 9, 544: 14, 773: 7, 498: 21, 631: 5, 533: 15, 501: 16, 873: 4, 635: 17, 656: 7, 823: 6, 686: 13, 383: 26, 486: 28, 793: 8, 24: 10, 464: 21, 600: 14, 575: 22, 730: 8, 642: 8, 866: 6, 41: 57, 507: 23, 382: 28, 555: 10, 465: 23, 1737: 1, 751: 7, 854: 7, 505: 18, 649: 11, 741: 4, 368: 35, 603: 9, 598: 11, 695: 9, 743: 3, 834: 6, 714: 10, 425: 28, 687: 10, 962: 5, 485: 25, 803: 6, 441: 22, 697: 6, 612: 12, 636: 10, 469: 20, 869: 6, 452: 27, 754: 6, 963: 4, 45: 71, 822: 1, 657: 16, 582: 16, 606: 11, 669: 8, 634: 14, 1601: 1, 442: 22, 14: 2, 836: 3, 513: 16, 565: 14, 831: 5, 662: 8, 784: 7, 1001: 19, 974: 4, 463: 24, 390: 32, 490: 26, 597: 15, 1010: 2, 800: 6, 592: 11, 689: 7, 504: 21, 650: 9, 318: 44, 577: 12, 415: 23, 855: 5, 919: 6, 453: 22, 968: 4, 702: 8, 459: 22, 645: 9, 852: 5, 468: 25, 738: 2, 995: 8, 334: 52, 671: 10, 673: 5, 417: 26, 786: 3, 492: 20, 818: 4, 568: 13, 667: 14, 476: 22, 848: 2, 472: 24, 795: 6, 609: 6, 637: 10, 705: 6, 815: 3, 593: 13, 683: 5, 619: 12, 977: 5, 439: 25, 339: 34, 512: 14, 914: 1, 859: 6, 29: 13, 497: 19, 616: 10, 674: 12, 563: 19, 737: 5, 941: 5, 566: 12, 605: 9, 739: 5, 532: 22, 590: 12, 643: 6, 625: 11, 713: 10, 723: 6, 768: 6, 967: 4, 998: 18, 805: 4, 957: 4, 626: 14, 953: 5, 820: 5, 573: 14, 929: 2, 699: 7, 879: 3, 536: 8, 651: 14, 801: 8, 696: 10, 988: 7, 825: 9, 985: 2, 1830: 1, 567: 9, 893: 2, 526: 20, 701: 8, 785: 10, 666: 5, 844: 4, 731: 7, 583: 13, 679: 7, 763: 5, 838: 4, 27: 8, 813: 8, 966: 4, 853: 4, 539: 11, 774: 3, 677: 11, 892: 3, 665: 8, 864: 3, 675: 8, 900: 3, 999: 15, 857: 4, 700: 9, 581: 8, 585: 13, 454: 24, 523: 17, 819: 3, 719: 7, 989: 9, 658: 6, 765: 7, 1024: 1, 792: 3, 802: 4, 571: 13, 527: 24, 946: 4, 817: 5, 31: 14, 956: 2, 1366: 1, 630: 6, 938: 1, 894: 3, 682: 4, 984: 4, 624: 13, 903: 5, 1316: 1, 742: 3, 804: 6, 756: 7, 732: 11, 996: 13, 745: 7, 772: 4, 1007: 2, 508: 10, 611: 9, 769: 4, 672: 5, 776: 6, 778: 4, 897: 2, 728: 4, 685: 9, 733: 10, 541: 13, 794: 3, 971: 3, 780: 5, 978: 7, 949: 1, 981: 5, 748: 5, 729: 5, 542: 19, 757: 7, 21: 3, 528: 16, 888: 3, 668: 9, 891: 3, 908: 7, 474: 21, 698: 3, 980: 5, 796: 3, 972: 4, 991: 11, 973: 6, 478: 12, 827: 5, 955: 3, 727: 6, 890: 6, 676: 8, 806: 3, 895: 2, 826: 4, 610: 9, 904: 3, 692: 8, 23: 7, 933: 4, 849: 4, 628: 5, 913: 3, 905: 1, 1012: 1, 724: 9, 930: 2, 604: 8, 810: 4, 986: 5, 632: 11, 884: 4, 959: 4, 10: 3, 644: 8, 833: 2, 987: 4, 837: 8, 950: 3, 1839: 1, 712: 7, 620: 6, 623: 5, 8: 2, 851: 3, 807: 5, 19: 4, 862: 1, 759: 4, 659: 9, 708: 5, 885: 3, 992: 10, 868: 3, 576: 9, 691: 6, 923: 4, 940: 4, 982: 2, 589: 6, 787: 5, 20: 3, 1364: 1, 921: 3, 1398: 1, 927: 4, 694: 4, 928: 3, 936: 2, 1057: 1, 915: 3, 783: 3, 1164: 1, 911: 2, 755: 8, 997: 7, 578: 10, 872: 1, 878: 4, 594: 11, 832: 5, 865: 2, 547: 9, 747: 5, 646: 4, 942: 3, 1196: 1, 867: 4, 924: 3, 835: 2, 1014: 1, 1376: 1, 877: 3, 752: 5, 964: 6, 627: 6, 22: 4, 846: 4, 758: 3, 1074: 1, 797: 3, 994: 6, 718: 5, 871: 2, 975: 6, 1167: 1, 970: 4, 711: 3, 843: 6, 11: 1, 767: 4, 1016: 1, 925: 2, 899: 3, 979: 3, 951: 3, 886: 2, 688: 9, 961: 6, 912: 2, 901: 4, 870: 1, 839: 3, 926: 1, 579: 7, 829: 4, 902: 2, 678: 3, 939: 4, 840: 2, 969: 3, 887: 4, 841: 2, 1002: 3, 909: 3, 821: 4, 1013: 2, 858: 4, 945: 3, 721: 6, 882: 2, 880: 2, 1475: 1, 990: 4, 811: 5, 1186: 1, 944: 4, 6: 1, 1017: 1, 860: 1, 1277: 1, 976: 4, 4: 1, 764: 4, 1070: 1, 1192: 1, 889: 3, 830: 3, 954: 2, 717: 3, 16: 2, 9: 1, 2108: 1, 2125: 1, 2470: 1, 1051: 1, 910: 3, 12: 2, 648: 6, 809: 2, 1066: 1, 828: 1, 916: 2, 1263: 1, 861: 2, 17: 3, 15: 1, 1005: 2, 1009: 1, 760: 2, 1085: 1, 781: 2, 932: 1, 935: 3, 1087: 1, 1021: 1, 2278: 1, 876: 1, 1008: 1, 1088: 1, 881: 1, 842: 1, 1723: 1, 1090: 1, 812: 2, 1522: 1, 907: 1, 1006: 1, 958: 2, 1072: 1, 1004: 1, 1147: 1, 943: 1, 1076: 1, 1015: 1, 1003: 1, 1148: 1}\n",
            "The reviews that have word bad in it but sentiment was still positive:  3106\n"
          ]
        },
        {
          "output_type": "display_data",
          "data": {
            "image/png": "[encoded data removed]",
            "text/plain": [
              "<Figure size 432x288 with 1 Axes>"
            ]
          },
          "metadata": {
            "needs_background": "light"
          }
        }
      ]
    },
    {
      "cell_type": "markdown",
      "source": [
        "#Explore the data:\n",
        "- number of samples: 50000\n",
        "- number of classes: 2 - [positive, negative]\n",
        "- Number of words per sample: median was 173\n",
        "- distribution of words per sample - diplayed in histogram\n",
        "- The number of reviews that had word bad in it and sentiment was positive:3106\n",
        "\n"
      ],
      "metadata": {
        "id": "vTnCAVm4Eeci"
      }
    },
    {
      "cell_type": "markdown",
      "metadata": {
        "id": "ZSuguZ6u5lUl"
      },
      "source": [
        "## Data Preparation\n",
        "\n",
        "I'm providing you with code that cleans the reviews by making it all lowercase letters and removing stop words. The three cells below do this for you. I still want you to explain what you did with the data here. "
      ]
    },
    {
      "cell_type": "code",
      "metadata": {
        "colab": {
          "base_uri": "https://localhost:8080/"
        },
        "id": "YV4FfvLegTSh",
        "outputId": "c32eeacb-8ca2-41d0-cac8-b96a432b7db9"
      },
      "source": [
        "from bs4 import BeautifulSoup\n",
        "import re\n",
        "import nltk\n",
        "#only do next line once\n",
        "nltk.download() #in Corpora tab, download stopwords\n",
        "from nltk.corpus import stopwords\n",
        "from sklearn.model_selection import train_test_split\n",
        "#The NLTK downloader will open, you need to select (d) for Download, and then 'stopwords'then (q) to quit"
      ],
      "execution_count": 4,
      "outputs": [
        {
          "name": "stdout",
          "output_type": "stream",
          "text": [
            "NLTK Downloader\n",
            "---------------------------------------------------------------------------\n",
            "    d) Download   l) List    u) Update   c) Config   h) Help   q) Quit\n",
            "---------------------------------------------------------------------------\n",
            "Downloader> d\n",
            "\n",
            "Download which package (l=list; x=cancel)?\n",
            "  Identifier> stopwords\n",
            "    Downloading package stopwords to /root/nltk_data...\n",
            "      Package stopwords is already up-to-date!\n",
            "\n",
            "---------------------------------------------------------------------------\n",
            "    d) Download   l) List    u) Update   c) Config   h) Help   q) Quit\n",
            "---------------------------------------------------------------------------\n",
            "Downloader> q\n"
          ]
        }
      ]
    },
    {
      "cell_type": "code",
      "metadata": {
        "id": "tTEr6vRUgOUs"
      },
      "source": [
        "#This is a function that takes in a review, makes sure it is only lower case letters and removes stopwords.\n",
        "#It returns the cleaned review text.\n",
        "def clean_review(review):\n",
        "    #input is a string review\n",
        "    #return is review cleaned of all punctuation, lowercase, and removed nltk stopwords\n",
        "    letters_only = re.sub(\"[^a-zA-Z]\",\" \",review)\n",
        "    lower_case = letters_only.lower()\n",
        "    words = lower_case.split()\n",
        "    for stop_word in stopwords.words(\"english\"):\n",
        "        while stop_word in words:\n",
        "            words.remove(stop_word)\n",
        "    cleaned = \" \".join(words)\n",
        "    return cleaned"
      ],
      "execution_count": 5,
      "outputs": []
    },
    {
      "cell_type": "code",
      "metadata": {
        "id": "QEjHsILZgk9V"
      },
      "source": [
        "#process the data\n",
        "cleaned_text = []\n",
        "for i in range(len(data)):\n",
        "    cleaned_text.append(clean_review(data[\"review\"][i]))  "
      ],
      "execution_count": 6,
      "outputs": []
    },
    {
      "cell_type": "code",
      "metadata": {
        "colab": {
          "base_uri": "https://localhost:8080/"
        },
        "id": "LMg3P0ZNBvGM",
        "outputId": "52b6b6ae-b984-492d-f0e4-30168a6fab53"
      },
      "source": [
        "cleaned_text[:5]"
      ],
      "execution_count": 7,
      "outputs": [
        {
          "output_type": "execute_result",
          "data": {
            "text/plain": [
              "['one reviewers mentioned watching oz episode hooked right exactly happened br br first thing struck oz brutality unflinching scenes violence set right word go trust show faint hearted timid show pulls punches regards drugs sex violence hardcore classic use word br br called oz nickname given oswald maximum security state penitentary focuses mainly emerald city experimental section prison cells glass fronts face inwards privacy high agenda em city home many aryans muslims gangstas latinos christians italians irish scuffles death stares dodgy dealings shady agreements never far away br br would say main appeal show due fact goes shows dare forget pretty pictures painted mainstream audiences forget charm forget romance oz mess around first episode ever saw struck nasty surreal say ready watched developed taste oz got accustomed high levels graphic violence violence injustice crooked guards sold nickel inmates kill order get away well mannered middle class inmates turned prison bitches due lack street skills prison experience watching oz may become comfortable uncomfortable viewing thats get touch darker side',\n",
              " 'wonderful little production br br filming technique unassuming old time bbc fashion gives comforting sometimes discomforting sense realism entire piece br br actors extremely well chosen michael sheen got polari voices pat truly see seamless editing guided references williams diary entries well worth watching terrificly written performed piece masterful production one great master comedy life br br realism really comes home little things fantasy guard rather use traditional dream techniques remains solid disappears plays knowledge senses particularly scenes concerning orton halliwell sets particularly flat halliwell murals decorating every surface terribly well done',\n",
              " 'thought wonderful way spend time hot summer weekend sitting air conditioned theater watching light hearted comedy plot simplistic dialogue witty characters likable even well bread suspected serial killer may disappointed realize match point risk addiction thought proof woody allen still fully control style many us grown love br br laughed one woody comedies years dare say decade never impressed scarlet johanson managed tone sexy image jumped right average spirited young woman br br may crown jewel career wittier devil wears prada interesting superman great comedy go see friends',\n",
              " 'basically family little boy jake thinks zombie closet parents fighting time br br movie slower soap opera suddenly jake decides become rambo kill zombie br br ok first going make film must decide thriller drama drama movie watchable parents divorcing arguing like real life jake closet totally ruins film expected see boogeyman similar movie instead watched drama meaningless thriller spots br br well playing parents descent dialogs shots jake ignore',\n",
              " 'petter mattei love time money visually stunning film watch mr mattei offers us vivid portrait human relations movie seems telling us money power success people different situations encounter br br variation arthur schnitzler play theme director transfers action present time new york different characters meet connect one connected one way another next person one seems know previous point contact stylishly film sophisticated luxurious look taken see people live world live habitat br br thing one gets souls picture different stages loneliness one inhabits big city exactly best place human relations find sincere fulfillment one discerns case people encounter br br acting good mr mattei direction steve buscemi rosario dawson carol kane michael imperioli adrian grenier rest talented cast make characters come alive br br wish mr mattei good luck await anxiously next work']"
            ]
          },
          "metadata": {},
          "execution_count": 7
        }
      ]
    },
    {
      "cell_type": "code",
      "metadata": {
        "id": "spDgSTvCg9wk"
      },
      "source": [
        "#establish training and testing dataset\n",
        "train_data, test_data, train_sln, test_sln = \\\n",
        "    train_test_split(cleaned_text, data['sentiment'], test_size = 0.2, random_state=0) "
      ],
      "execution_count": 8,
      "outputs": []
    },
    {
      "cell_type": "markdown",
      "metadata": {
        "id": "-86AHOAkDpge"
      },
      "source": [
        "### Vectorizing the data\n",
        "\n",
        "**CountVectorizer**: Convert a collection of text documents to a matrix of token counts"
      ]
    },
    {
      "cell_type": "code",
      "metadata": {
        "id": "nwmex98NDgqJ"
      },
      "source": [
        "from sklearn.feature_extraction.text import CountVectorizer \n",
        "\n",
        "#Bag of Words with 5000 most common words\n",
        "vectorizer = CountVectorizer(analyzer='word', max_features = 500)\n",
        "#find the right 5000 words\n",
        "vectorizer.fit(train_data)\n",
        "\n",
        "#use the vectorizer to transform review strings into word count vectors \n",
        "train_data_vectors = vectorizer.transform(train_data).toarray()\n",
        "test_data_vectors = vectorizer.transform(test_data).toarray()"
      ],
      "execution_count": 9,
      "outputs": []
    },
    {
      "cell_type": "code",
      "metadata": {
        "id": "uUSQcsLOEAec"
      },
      "source": [
        "## Now use train_data_vectors and test_data_vectors to train/test/tune your sklearn models.\n",
        "from sklearn.svm import SVC\n",
        "from sklearn import metrics\n",
        "\n",
        "import matplotlib.pyplot as plt\n",
        "from itertools import product\n",
        "%matplotlib inline"
      ],
      "execution_count": 10,
      "outputs": []
    },
    {
      "cell_type": "code",
      "source": [
        "clf = SVC()\n",
        "clf.fit(train_data_vectors,train_sln)\n",
        "predictions = clf.predict(test_data_vectors)\n",
        "\n",
        "#output accuracy\n",
        "print(\"accuracy:\", metrics.accuracy_score(test_sln, predictions))\n"
      ],
      "metadata": {
        "id": "HGh_YUi3GzHh",
        "outputId": "26e8e202-b028-453c-85d8-d0bad9733488",
        "colab": {
          "base_uri": "https://localhost:8080/"
        }
      },
      "execution_count": null,
      "outputs": [
        {
          "output_type": "stream",
          "name": "stdout",
          "text": [
            "accuracy: 0.8307\n"
          ]
        }
      ]
    },
    {
      "cell_type": "code",
      "source": [
        "vals = data['sentiment'].unique() ## possible classification values\n",
        "conf_mat = metrics.confusion_matrix(test_sln, predictions, labels=vals)\n",
        "print(pandas.DataFrame(conf_mat, index = \"T \" + vals, columns = \"Pred \" + vals))"
      ],
      "metadata": {
        "id": "fqDyCq5tG-OO",
        "outputId": "f8260a0a-de7a-4651-a028-1111aa6ecec3",
        "colab": {
          "base_uri": "https://localhost:8080/"
        }
      },
      "execution_count": null,
      "outputs": [
        {
          "output_type": "stream",
          "name": "stdout",
          "text": [
            "            Pred positive  Pred negative\n",
            "T positive           4203            762\n",
            "T negative            931           4104\n"
          ]
        }
      ]
    },
    {
      "cell_type": "markdown",
      "source": [
        "#For SVC\n",
        "- For baseline the accuracy was .8307.\n",
        "- 762 false positive and 931 false negative"
      ],
      "metadata": {
        "id": "QXu9ht6DRxAy"
      }
    },
    {
      "cell_type": "code",
      "source": [
        "c_val = [0.5,1,1.5,2]\n",
        "accuracy = []\n",
        "for c in c_val:\n",
        "  print(\"C is :\",c)\n",
        "  clf = SVC(C=c)\n",
        "  clf.fit(train_data_vectors,train_sln)\n",
        "  predictions = clf.predict(test_data_vectors)\n",
        "  accuracy.append(metrics.accuracy_score(test_sln,predictions))\n",
        "  print(\"accuracy:\", metrics.accuracy_score(test_sln, predictions))\n",
        "  vals = data['sentiment'].unique() ## possible classification values\n",
        "  conf_mat = metrics.confusion_matrix(test_sln, predictions, labels=vals)\n",
        "  print(pandas.DataFrame(conf_mat, index = \"T \" + vals, columns = \"Pred \" + vals))\n",
        "  print(\"---------------------------------------------- \\n\\n\")"
      ],
      "metadata": {
        "id": "EpWgC9RrRjdE",
        "outputId": "923785f1-ffb4-4484-b295-d21efaec298b",
        "colab": {
          "base_uri": "https://localhost:8080/"
        }
      },
      "execution_count": 11,
      "outputs": [
        {
          "output_type": "stream",
          "name": "stdout",
          "text": [
            "C is : 0.5\n",
            "accuracy: 0.827\n",
            "            Pred positive  Pred negative\n",
            "T positive           4210            755\n",
            "T negative            975           4060\n",
            "---------------------------------------------- \n",
            "\n",
            "\n",
            "C is : 1\n",
            "accuracy: 0.8307\n",
            "            Pred positive  Pred negative\n",
            "T positive           4203            762\n",
            "T negative            931           4104\n",
            "---------------------------------------------- \n",
            "\n",
            "\n",
            "C is : 1.5\n",
            "accuracy: 0.8329\n",
            "            Pred positive  Pred negative\n",
            "T positive           4217            748\n",
            "T negative            923           4112\n",
            "---------------------------------------------- \n",
            "\n",
            "\n",
            "C is : 2\n",
            "accuracy: 0.8324\n",
            "            Pred positive  Pred negative\n",
            "T positive           4215            750\n",
            "T negative            926           4109\n",
            "---------------------------------------------- \n",
            "\n",
            "\n"
          ]
        }
      ]
    },
    {
      "cell_type": "code",
      "source": [
        "import matplotlib.pyplot as plt\n",
        "\n",
        "\n",
        "#add names for the graph and axes\n",
        "plt.suptitle('Value of C and accuracy',fontsize=18)\n",
        "plt.xlabel('C')\n",
        "plt.ylabel('Accuracy')\n",
        "\n",
        "#and plot our series\n",
        "plt.plot(c_val,accuracy,'ro-')\n",
        "\n",
        "\n",
        "# add a key and set the values for your axis (plt.axis[x_min, x_max, y_min, y_max])\n",
        "plt.legend(loc='lower right', shadow=True)\n",
        "plt.show()"
      ],
      "metadata": {
        "id": "s4n8ypq4SZdf",
        "outputId": "1a0f7648-c058-4f91-8f93-b6167fb8da9a",
        "colab": {
          "base_uri": "https://localhost:8080/",
          "height": 325
        }
      },
      "execution_count": 14,
      "outputs": [
        {
          "output_type": "stream",
          "name": "stderr",
          "text": [
            "No handles with labels found to put in legend.\n"
          ]
        },
        {
          "output_type": "display_data",
          "data": {
            "image/png": "[encoded data removed]",
            "text/plain": [
              "<Figure size 432x288 with 1 Axes>"
            ]
          },
          "metadata": {
            "needs_background": "light"
          }
        }
      ]
    },
    {
      "cell_type": "code",
      "source": [
        ""
      ],
      "metadata": {
        "id": "TXKJxdFkUN-j"
      },
      "execution_count": null,
      "outputs": []
    }
  ]
}